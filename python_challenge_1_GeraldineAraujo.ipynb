{
 "cells": [
  {
   "cell_type": "markdown",
   "id": "a50abca8-8934-455f-a903-a400916935a7",
   "metadata": {},
   "source": [
    "## Geraldine Araujo"
   ]
  },
  {
   "cell_type": "markdown",
   "id": "1369ce8b-c393-41ea-9471-43f7f38ff3db",
   "metadata": {},
   "source": [
    "### Pre-challenge"
   ]
  },
  {
   "cell_type": "code",
   "execution_count": 1,
   "id": "185800df-1e97-482e-86ff-6843a0893c15",
   "metadata": {},
   "outputs": [],
   "source": [
    "import math as m"
   ]
  },
  {
   "cell_type": "code",
   "execution_count": 2,
   "id": "27e6aea6-ab9f-418d-ba45-25071db09542",
   "metadata": {},
   "outputs": [],
   "source": [
    "radius = 10"
   ]
  },
  {
   "cell_type": "code",
   "execution_count": 4,
   "id": "cf6a6eaf-4ce9-4eaa-8f9d-ad01e8feac83",
   "metadata": {},
   "outputs": [],
   "source": [
    "circle_area =  m.pi * radius**2"
   ]
  },
  {
   "cell_type": "code",
   "execution_count": 6,
   "id": "d56d0298-10b8-49b3-a06c-55fb58deeba0",
   "metadata": {},
   "outputs": [
    {
     "name": "stdout",
     "output_type": "stream",
     "text": [
      "The area of a circle with radius 10 is  314.16\n"
     ]
    }
   ],
   "source": [
    "print (\"The area of a circle with radius\", radius, \"is \", round(circle_area, 2))"
   ]
  },
  {
   "cell_type": "markdown",
   "id": "9dba67b4-2ec5-41ba-b2d4-367fa7dc076f",
   "metadata": {},
   "source": [
    "### Square"
   ]
  },
  {
   "cell_type": "code",
   "execution_count": 7,
   "id": "ca37d5c8-6182-4b19-a1f6-0fc3375017e7",
   "metadata": {},
   "outputs": [],
   "source": [
    "x = 4"
   ]
  },
  {
   "cell_type": "code",
   "execution_count": 8,
   "id": "39a8d3bb-fbd0-43cd-a409-e4c5ece853ae",
   "metadata": {},
   "outputs": [],
   "source": [
    "square_area = x**2"
   ]
  },
  {
   "cell_type": "code",
   "execution_count": 12,
   "id": "27473cb8-986e-4c13-9a45-0bd821e0a882",
   "metadata": {},
   "outputs": [
    {
     "name": "stdout",
     "output_type": "stream",
     "text": [
      "The area of a square with x = 4 is  16\n"
     ]
    }
   ],
   "source": [
    "print (\"The area of a square with x =\", x, \"is \", square_area)"
   ]
  },
  {
   "cell_type": "markdown",
   "id": "c9f240bf-87e9-4c1d-a201-d44c3557148d",
   "metadata": {},
   "source": [
    "### Rectangle"
   ]
  },
  {
   "cell_type": "code",
   "execution_count": 13,
   "id": "13d55889-5cf3-4c3a-bc24-6e399b0a1d94",
   "metadata": {},
   "outputs": [],
   "source": [
    "b = 20\n",
    "h = 5"
   ]
  },
  {
   "cell_type": "code",
   "execution_count": 14,
   "id": "7da69f68-b061-4598-8c98-c983c4297599",
   "metadata": {},
   "outputs": [],
   "source": [
    "rectangle_area = b*h"
   ]
  },
  {
   "cell_type": "code",
   "execution_count": 15,
   "id": "96cf2398-9635-432a-8a9d-64812ec59fae",
   "metadata": {},
   "outputs": [
    {
     "name": "stdout",
     "output_type": "stream",
     "text": [
      "The area of a rectangle with b = 20 and h = 5 is  100\n"
     ]
    }
   ],
   "source": [
    "print (\"The area of a rectangle with b =\", b, \"and h =\", h, \"is \", rectangle_area)"
   ]
  },
  {
   "cell_type": "markdown",
   "id": "d2a211bf-ce0e-41e9-aef6-1882e54bb1bc",
   "metadata": {},
   "source": [
    "### Triangle"
   ]
  },
  {
   "cell_type": "code",
   "execution_count": 21,
   "id": "b555d133-6442-4b89-9047-1706a48918b6",
   "metadata": {},
   "outputs": [],
   "source": [
    "triangle_area = 1/2*(b*h)"
   ]
  },
  {
   "cell_type": "code",
   "execution_count": 23,
   "id": "d1aee3c8-1166-48ee-ad07-bb59b5f007cb",
   "metadata": {},
   "outputs": [
    {
     "name": "stdout",
     "output_type": "stream",
     "text": [
      "The area of a rectangle with b = 20 and h = 5 is  50\n"
     ]
    }
   ],
   "source": [
    "print (\"The area of a rectangle with b =\", b, \"and h =\", h, \"is \", round(triangle_area))"
   ]
  },
  {
   "cell_type": "markdown",
   "id": "78afec87-9d04-49da-aee4-89c1f03a9420",
   "metadata": {},
   "source": [
    "### Ellipse"
   ]
  },
  {
   "cell_type": "code",
   "execution_count": 26,
   "id": "ffc18c4d-768a-4f24-a892-163a4d132d73",
   "metadata": {},
   "outputs": [],
   "source": [
    "a = 3"
   ]
  },
  {
   "cell_type": "code",
   "execution_count": 27,
   "id": "660d775c-ffa7-4421-bfe0-abcb0e409d84",
   "metadata": {},
   "outputs": [],
   "source": [
    "ellipse_area = m.pi * (a*b)"
   ]
  },
  {
   "cell_type": "code",
   "execution_count": 29,
   "id": "e0d25cc5-f83b-4b48-8fbb-14c5a7cb1490",
   "metadata": {},
   "outputs": [
    {
     "name": "stdout",
     "output_type": "stream",
     "text": [
      "The area of an ellipse with a = 3 and b = 20 is  188.5\n"
     ]
    }
   ],
   "source": [
    "print (\"The area of an ellipse with a =\", a, \"and b =\", b, \"is \", round(ellipse_area, 2))"
   ]
  },
  {
   "cell_type": "markdown",
   "id": "4e1fb999-8982-4e86-8adb-860bf12046fc",
   "metadata": {},
   "source": [
    "### Trapezoid"
   ]
  },
  {
   "cell_type": "code",
   "execution_count": 30,
   "id": "eb0089c8-079b-4924-be88-9b8a37c6c922",
   "metadata": {},
   "outputs": [],
   "source": [
    "trapezoid_area = ((a+b)/2)*h"
   ]
  },
  {
   "cell_type": "code",
   "execution_count": 31,
   "id": "2ccc946c-b7ce-48d0-8f47-e6a11775ba87",
   "metadata": {},
   "outputs": [
    {
     "name": "stdout",
     "output_type": "stream",
     "text": [
      "The area of a trapezoid with a = 3 and b = 20 and h = 5 is  57.5\n"
     ]
    }
   ],
   "source": [
    "print (\"The area of a trapezoid with a =\", a, \"and b =\", b, \"and h =\", h, \"is \", trapezoid_area)"
   ]
  },
  {
   "cell_type": "markdown",
   "id": "46ab010a-5fcf-4bb5-a1e2-94b4a2f25d58",
   "metadata": {},
   "source": [
    "### Bonus"
   ]
  },
  {
   "cell_type": "code",
   "execution_count": 32,
   "id": "ce18de64-2728-499b-aecf-a66d1cc1f52d",
   "metadata": {},
   "outputs": [],
   "source": [
    "# math library imported in pre-challenge"
   ]
  },
  {
   "cell_type": "code",
   "execution_count": 33,
   "id": "861ea5b3-e8e6-4740-a1f7-57f636fb59e2",
   "metadata": {},
   "outputs": [],
   "source": [
    "angle = 45"
   ]
  },
  {
   "cell_type": "code",
   "execution_count": 37,
   "id": "88cc2b73-b5c6-416c-afbc-6b19b130db60",
   "metadata": {},
   "outputs": [],
   "source": [
    "rad_angle = m.radians(angle)"
   ]
  },
  {
   "cell_type": "code",
   "execution_count": 42,
   "id": "55a0a4b4-ea53-4d24-b907-c466c9c0551d",
   "metadata": {},
   "outputs": [
    {
     "name": "stdout",
     "output_type": "stream",
     "text": [
      "0.7853981633974483\n"
     ]
    }
   ],
   "source": [
    "print (rad_angle)"
   ]
  },
  {
   "cell_type": "markdown",
   "id": "3c1cbcd9-6645-4bda-8e3b-64f5a1912858",
   "metadata": {},
   "source": [
    "**sine**"
   ]
  },
  {
   "cell_type": "code",
   "execution_count": 45,
   "id": "25b89711-ea6a-4dd8-9bfc-0034880b8c8b",
   "metadata": {},
   "outputs": [],
   "source": [
    "sine = m.sin(rad_angle)"
   ]
  },
  {
   "cell_type": "code",
   "execution_count": 47,
   "id": "b082ae3c-9b0f-4018-88cd-5a162586b56b",
   "metadata": {},
   "outputs": [
    {
     "name": "stdout",
     "output_type": "stream",
     "text": [
      "The sine when angle  45 is  0.7071067811865476\n"
     ]
    }
   ],
   "source": [
    "print (\"The sine when angle \", angle, \"is \", sine)"
   ]
  },
  {
   "cell_type": "markdown",
   "id": "01765d9a-0f37-43ba-88aa-146c9a84120b",
   "metadata": {},
   "source": [
    "**cosine**"
   ]
  },
  {
   "cell_type": "code",
   "execution_count": 48,
   "id": "f0a2289a-6db3-4d52-8dca-d7fe4507d208",
   "metadata": {},
   "outputs": [],
   "source": [
    "cosine = m.cos(rad_angle)"
   ]
  },
  {
   "cell_type": "code",
   "execution_count": 49,
   "id": "ed8b695f-3752-45d8-83a1-aa839d1223f3",
   "metadata": {},
   "outputs": [
    {
     "name": "stdout",
     "output_type": "stream",
     "text": [
      "The cosine when angle  45 is  0.7071067811865476\n"
     ]
    }
   ],
   "source": [
    "print (\"The cosine when angle \", angle, \"is \", cosine)"
   ]
  },
  {
   "cell_type": "markdown",
   "id": "16399943-af75-4b7f-a0f0-ba4181db3e68",
   "metadata": {},
   "source": [
    "**square root**"
   ]
  },
  {
   "cell_type": "code",
   "execution_count": 52,
   "id": "3453eefb-5e8f-4f47-82c3-6f6baa4cb098",
   "metadata": {},
   "outputs": [],
   "source": [
    "square_root = 256**.5"
   ]
  },
  {
   "cell_type": "code",
   "execution_count": 55,
   "id": "2df380ec-9859-4b0a-8804-2fd130cdd799",
   "metadata": {},
   "outputs": [
    {
     "name": "stdout",
     "output_type": "stream",
     "text": [
      "The square root of 256 is  16\n"
     ]
    }
   ],
   "source": [
    "print (\"The square root of 256 is \", round(square_root))"
   ]
  },
  {
   "cell_type": "markdown",
   "id": "91560f06-8d57-4202-80c4-d98a13b9854c",
   "metadata": {},
   "source": [
    "**4^5**"
   ]
  },
  {
   "cell_type": "code",
   "execution_count": 56,
   "id": "46a6aed0-c7a0-4bd2-b900-4d48b34a13fb",
   "metadata": {},
   "outputs": [
    {
     "data": {
      "text/plain": [
       "1024"
      ]
     },
     "execution_count": 56,
     "metadata": {},
     "output_type": "execute_result"
    }
   ],
   "source": [
    "4**5"
   ]
  },
  {
   "cell_type": "code",
   "execution_count": 58,
   "id": "32a6b75e-8c9d-470f-b3a5-0968b5b5600a",
   "metadata": {},
   "outputs": [
    {
     "name": "stdout",
     "output_type": "stream",
     "text": [
      "4 to the power of 5 is  1024\n"
     ]
    }
   ],
   "source": [
    "print (\"4 to the power of 5 is \", 4**5)"
   ]
  },
  {
   "cell_type": "code",
   "execution_count": null,
   "id": "fa5eae5d-01ef-4cb6-ac00-b8c093e3c253",
   "metadata": {},
   "outputs": [],
   "source": []
  }
 ],
 "metadata": {
  "kernelspec": {
   "display_name": "Python 3 (ipykernel)",
   "language": "python",
   "name": "python3"
  },
  "language_info": {
   "codemirror_mode": {
    "name": "ipython",
    "version": 3
   },
   "file_extension": ".py",
   "mimetype": "text/x-python",
   "name": "python",
   "nbconvert_exporter": "python",
   "pygments_lexer": "ipython3",
   "version": "3.10.9"
  }
 },
 "nbformat": 4,
 "nbformat_minor": 5
}
