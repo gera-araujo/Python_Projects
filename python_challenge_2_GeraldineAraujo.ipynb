{
 "cells": [
  {
   "cell_type": "markdown",
   "id": "c76e0b5c-6b3f-42c8-a195-dacc6ae8878b",
   "metadata": {},
   "source": [
    "# Geraldine Araujo"
   ]
  },
  {
   "cell_type": "markdown",
   "id": "3cca5150-26d9-4f6e-b0ed-48af43cce1cd",
   "metadata": {},
   "source": [
    "##### 1. Create basic calculations:"
   ]
  },
  {
   "cell_type": "markdown",
   "id": "c0c1cf7f-4858-4641-b5b7-f0b284e3cf08",
   "metadata": {},
   "source": [
    "a = 16\n",
    "b = 2\n",
    "\n",
    "print(type(a))\n",
    "print(type(b))"
   ]
  },
  {
   "cell_type": "markdown",
   "id": "b10d60f5-a522-43f2-9c6c-9c711f55b20b",
   "metadata": {},
   "source": [
    "Add two integers together\n"
   ]
  },
  {
   "cell_type": "code",
   "execution_count": 16,
   "id": "a2de7a8d-add9-4e59-8964-187182f2a6dc",
   "metadata": {},
   "outputs": [
    {
     "name": "stdout",
     "output_type": "stream",
     "text": [
      "18\n"
     ]
    }
   ],
   "source": [
    "print(a+b)"
   ]
  },
  {
   "cell_type": "markdown",
   "id": "46a83f51-6911-4fef-b05c-d4f92a771d56",
   "metadata": {},
   "source": [
    "Subtract two integers"
   ]
  },
  {
   "cell_type": "code",
   "execution_count": 17,
   "id": "9d3a9722-dd28-458b-9424-8fa76b0ded0f",
   "metadata": {},
   "outputs": [
    {
     "name": "stdout",
     "output_type": "stream",
     "text": [
      "14\n"
     ]
    }
   ],
   "source": [
    "print(a-b)"
   ]
  },
  {
   "cell_type": "markdown",
   "id": "ba9afa54-dbeb-492f-8966-6ab9ebbce796",
   "metadata": {},
   "source": [
    "Divide two values. Have results be integer using floor division"
   ]
  },
  {
   "cell_type": "code",
   "execution_count": 18,
   "id": "49153be8-8432-42c5-8c18-dfe848230505",
   "metadata": {},
   "outputs": [
    {
     "name": "stdout",
     "output_type": "stream",
     "text": [
      "8\n"
     ]
    }
   ],
   "source": [
    "print(a//b)"
   ]
  },
  {
   "cell_type": "markdown",
   "id": "904576f9-539c-4e9c-95d4-0be039426b62",
   "metadata": {},
   "source": [
    "Create a variable 'x.' Have its value be 10+5. Print 'x'."
   ]
  },
  {
   "cell_type": "code",
   "execution_count": 20,
   "id": "c0bc1222-b7a2-4235-b1a4-614798913fc9",
   "metadata": {},
   "outputs": [
    {
     "name": "stdout",
     "output_type": "stream",
     "text": [
      "15\n"
     ]
    }
   ],
   "source": [
    "x = 10+5\n",
    "print(x)"
   ]
  },
  {
   "cell_type": "markdown",
   "id": "517b5112-45cd-42e2-a434-90645116ae4c",
   "metadata": {},
   "source": [
    "##### 2. Create two strings and combine them using the + operator."
   ]
  },
  {
   "cell_type": "code",
   "execution_count": 23,
   "id": "10384087-4ced-4a5f-95bb-335385eb9bad",
   "metadata": {},
   "outputs": [
    {
     "name": "stdout",
     "output_type": "stream",
     "text": [
      "I am very sleepy.\n"
     ]
    }
   ],
   "source": [
    "x = 'I am '\n",
    "y = 'very sleepy.'\n",
    "\n",
    "print(x+y)"
   ]
  },
  {
   "cell_type": "markdown",
   "id": "85878f8f-c7ca-42e2-9fea-742dca6bc6e1",
   "metadata": {},
   "source": [
    "##### 3. Create variable ‘y’ and have the value be ‘program’. Omit letters o and g. Print the result."
   ]
  },
  {
   "cell_type": "code",
   "execution_count": 32,
   "id": "49159612-1383-4812-881e-1e5fcdb9718e",
   "metadata": {},
   "outputs": [
    {
     "data": {
      "text/plain": [
       "7"
      ]
     },
     "execution_count": 32,
     "metadata": {},
     "output_type": "execute_result"
    }
   ],
   "source": [
    "y = \"program\"\n",
    "len(y)"
   ]
  },
  {
   "cell_type": "code",
   "execution_count": 53,
   "id": "54d7cf5f-915e-4bc8-9a43-3917b7dd8851",
   "metadata": {},
   "outputs": [
    {
     "name": "stdout",
     "output_type": "stream",
     "text": [
      "prram\n"
     ]
    }
   ],
   "source": [
    "print(y[0:2]+y[4:])"
   ]
  },
  {
   "cell_type": "markdown",
   "id": "24f5d2a5-cd02-4f34-849e-8af51629f53c",
   "metadata": {},
   "source": [
    "##### 4. Create a list called ‘calendar_months’."
   ]
  },
  {
   "cell_type": "code",
   "execution_count": 35,
   "id": "7a1455b6-cf80-40e9-815e-c4deb199429f",
   "metadata": {},
   "outputs": [],
   "source": [
    "calendar_months = ['January', 'February', 'March', 'April', 'May', 'June', 'July', 'August', 'September', 'October', 'November', 'December'] \n"
   ]
  },
  {
   "cell_type": "markdown",
   "id": "99f414fc-2137-4ba8-96bd-454f5d3f969e",
   "metadata": {},
   "source": [
    "How long is the list?"
   ]
  },
  {
   "cell_type": "code",
   "execution_count": 36,
   "id": "b00e489e-e695-4a92-90e0-2db140b127c4",
   "metadata": {},
   "outputs": [
    {
     "data": {
      "text/plain": [
       "12"
      ]
     },
     "execution_count": 36,
     "metadata": {},
     "output_type": "execute_result"
    }
   ],
   "source": [
    "len(calendar_months)"
   ]
  },
  {
   "cell_type": "markdown",
   "id": "7fc5a85a-f129-4d73-992d-6a6a86313bd0",
   "metadata": {},
   "source": [
    "Print only February, March, and April."
   ]
  },
  {
   "cell_type": "code",
   "execution_count": 38,
   "id": "05b13bc3-3098-4a4c-8bb5-f63995320dee",
   "metadata": {},
   "outputs": [
    {
     "name": "stdout",
     "output_type": "stream",
     "text": [
      "['February', 'March', 'April']\n"
     ]
    }
   ],
   "source": [
    "print(calendar_months[1:4])"
   ]
  },
  {
   "cell_type": "markdown",
   "id": "c6f8e931-8803-499f-8336-e47a1abecdfb",
   "metadata": {},
   "source": [
    "##### 5. Create a sample list of your choice, using string variables. "
   ]
  },
  {
   "cell_type": "code",
   "execution_count": 54,
   "id": "00fc1728-2bf8-49e4-95ea-84501320ae96",
   "metadata": {},
   "outputs": [],
   "source": [
    "travel_list = ['toiletries', 'phone charger', 'clothes', 'shoes']"
   ]
  },
  {
   "cell_type": "markdown",
   "id": "c179b78f-d58c-464b-9436-f373794acf18",
   "metadata": {},
   "source": [
    "##### 6. Create a second sample list of your choice, using string variables. "
   ]
  },
  {
   "cell_type": "code",
   "execution_count": 55,
   "id": "dbdfa6eb-8b11-47e5-88c1-60640ad1829b",
   "metadata": {},
   "outputs": [],
   "source": [
    "before_departure = ['passport', 'ticket']"
   ]
  },
  {
   "cell_type": "markdown",
   "id": "8c2eb0b3-d0f7-4904-8fa4-b24284338906",
   "metadata": {},
   "source": [
    "##### 7. Create a third list that concats the two sample lists you create above."
   ]
  },
  {
   "cell_type": "code",
   "execution_count": 58,
   "id": "b38f002e-8dad-4bd6-ba7c-2f686acc5376",
   "metadata": {},
   "outputs": [
    {
     "name": "stdout",
     "output_type": "stream",
     "text": [
      "['toiletries', 'phone charger', 'clothes', 'shoes', 'passport', 'ticket']\n"
     ]
    }
   ],
   "source": [
    "traveling = travel_list + before_departure\n",
    "print(traveling)"
   ]
  },
  {
   "cell_type": "markdown",
   "id": "a37afeee-fa45-4145-b528-fa72700e63aa",
   "metadata": {},
   "source": [
    "Remove one item from the third list."
   ]
  },
  {
   "cell_type": "code",
   "execution_count": 46,
   "id": "21eda41b-3e1d-4177-b52a-634e675fb72b",
   "metadata": {},
   "outputs": [
    {
     "name": "stdout",
     "output_type": "stream",
     "text": [
      "['toiletries', 'phone_charger', 'clothes', 'shoes', 'passport']\n"
     ]
    }
   ],
   "source": [
    "traveling.remove('ticket')\n",
    "print(traveling)"
   ]
  },
  {
   "cell_type": "markdown",
   "id": "6674f6b7-1cb2-4465-b7b8-9a7263b97df3",
   "metadata": {},
   "source": [
    "##### 8. Create a dictionary that has four keys and assign those keys values. "
   ]
  },
  {
   "cell_type": "code",
   "execution_count": 47,
   "id": "8209e49b-9bbf-459d-b157-dd509903bc36",
   "metadata": {},
   "outputs": [
    {
     "name": "stdout",
     "output_type": "stream",
     "text": [
      "{'red': 'stop', 'yellow': 'slow', 'green': 'go', 'orange': 'caution'}\n"
     ]
    }
   ],
   "source": [
    "dictionary = { \n",
    "    \"red\": \"stop\", \n",
    "    \"yellow\": \"slow\", \n",
    "    \"green\": \"go\",\n",
    "    \"orange\": \"caution\"} \n",
    " \n",
    "print(dictionary) "
   ]
  },
  {
   "cell_type": "markdown",
   "id": "70540b14-59e8-4b4b-bb34-0b859907a2d8",
   "metadata": {},
   "source": [
    "What is the length of the dictionary?"
   ]
  },
  {
   "cell_type": "code",
   "execution_count": 48,
   "id": "902e622b-f7b4-459e-959a-5eb30c2d6638",
   "metadata": {},
   "outputs": [
    {
     "data": {
      "text/plain": [
       "4"
      ]
     },
     "execution_count": 48,
     "metadata": {},
     "output_type": "execute_result"
    }
   ],
   "source": [
    "len(dictionary)"
   ]
  }
 ],
 "metadata": {
  "kernelspec": {
   "display_name": "Python 3 (ipykernel)",
   "language": "python",
   "name": "python3"
  },
  "language_info": {
   "codemirror_mode": {
    "name": "ipython",
    "version": 3
   },
   "file_extension": ".py",
   "mimetype": "text/x-python",
   "name": "python",
   "nbconvert_exporter": "python",
   "pygments_lexer": "ipython3",
   "version": "3.10.9"
  }
 },
 "nbformat": 4,
 "nbformat_minor": 5
}
